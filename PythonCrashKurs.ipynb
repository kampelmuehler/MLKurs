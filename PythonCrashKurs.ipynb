{
  "nbformat": 4,
  "nbformat_minor": 0,
  "metadata": {
    "colab": {
      "provenance": [],
      "authorship_tag": "ABX9TyNSaaKYH9fIrZh2+4lG+HPj",
      "include_colab_link": true
    },
    "kernelspec": {
      "name": "python3",
      "display_name": "Python 3"
    },
    "language_info": {
      "name": "python"
    }
  },
  "cells": [
    {
      "cell_type": "markdown",
      "metadata": {
        "id": "view-in-github",
        "colab_type": "text"
      },
      "source": [
        "<a href=\"https://colab.research.google.com/github/kampelmuehler/MLKurs/blob/main/PythonCrashKurs.ipynb\" target=\"_parent\"><img src=\"https://colab.research.google.com/assets/colab-badge.svg\" alt=\"Open In Colab\"/></a>"
      ]
    },
    {
      "cell_type": "markdown",
      "source": [
        "Hello World! (print, string(s), end)"
      ],
      "metadata": {
        "id": "16yplwjlrw9O"
      }
    },
    {
      "cell_type": "code",
      "execution_count": null,
      "metadata": {
        "id": "NFqUwYzfrug6"
      },
      "outputs": [],
      "source": []
    },
    {
      "cell_type": "markdown",
      "source": [
        "\n",
        "\n",
        "---\n",
        "\n",
        "\n",
        "Variablen & operatoren (+, -, *, **, /, //, casts)"
      ],
      "metadata": {
        "id": "3qDv4QdBwNtT"
      }
    },
    {
      "cell_type": "code",
      "source": [],
      "metadata": {
        "id": "b86dGxmowa82"
      },
      "execution_count": null,
      "outputs": []
    },
    {
      "cell_type": "markdown",
      "source": [
        "\n",
        "\n",
        "---\n",
        "\n",
        "\n",
        "Datentyp: Bool (and, or, is, not)"
      ],
      "metadata": {
        "id": "MTsDSGAAwbzt"
      }
    },
    {
      "cell_type": "code",
      "source": [],
      "metadata": {
        "id": "L-qN6IGMAF4-"
      },
      "execution_count": null,
      "outputs": []
    },
    {
      "cell_type": "markdown",
      "source": [
        "\n",
        "\n",
        "---\n",
        "\n",
        "\n",
        "Datentyp: String (Deklaration, indexing, newline, +, split, join, replace, islower, tolower, isupper, toupper, isalpha, isdigit, count, in, f-string)"
      ],
      "metadata": {
        "id": "WJZRbKTOAHHr"
      }
    },
    {
      "cell_type": "code",
      "source": [],
      "metadata": {
        "id": "B4qp6ECJxI1f"
      },
      "execution_count": null,
      "outputs": []
    },
    {
      "cell_type": "markdown",
      "source": [
        "\n",
        "\n",
        "---\n",
        "\n",
        "\n",
        "Datentyp: Liste (Deklaration, Zuweisung, Anhängen, Indexing, in, +, sorted, sum, any, all). Bonus: Comprehensions"
      ],
      "metadata": {
        "id": "qDhyGfs3stX4"
      }
    },
    {
      "cell_type": "code",
      "source": [],
      "metadata": {
        "id": "GyvTi-oOsDCR"
      },
      "execution_count": null,
      "outputs": []
    },
    {
      "cell_type": "markdown",
      "source": [
        "\n",
        "\n",
        "---\n",
        "\n",
        "\n",
        "Datentyp: Tuple (Deklaration, Zuweisung?, Indexing, len, in)\n",
        "\n"
      ],
      "metadata": {
        "id": "G2MvWc_OuOu2"
      }
    },
    {
      "cell_type": "code",
      "source": [],
      "metadata": {
        "id": "9u-xyteiuQp2"
      },
      "execution_count": null,
      "outputs": []
    },
    {
      "cell_type": "markdown",
      "source": [
        "\n",
        "\n",
        "---\n",
        "\n",
        "\n",
        "Datentyp: Dictionary (Deklaration, Zuweisung, key, values, del, len, in). Bonus: Comprehensions"
      ],
      "metadata": {
        "id": "z6a8mtxNtGmq"
      }
    },
    {
      "cell_type": "code",
      "source": [],
      "metadata": {
        "id": "Ux-fLN0ls9E_"
      },
      "execution_count": null,
      "outputs": []
    },
    {
      "cell_type": "markdown",
      "source": [
        "\n",
        "\n",
        "---\n",
        "\n",
        "\n",
        "If, else, elif"
      ],
      "metadata": {
        "id": "4Y4R4IAeuAwT"
      }
    },
    {
      "cell_type": "code",
      "source": [],
      "metadata": {
        "id": "9OPe6uiXt1lk"
      },
      "execution_count": null,
      "outputs": []
    },
    {
      "cell_type": "markdown",
      "source": [
        "\n",
        "\n",
        "---\n",
        "\n",
        "\n",
        "Schleifen (for, while, range, enumerate, continue, break)"
      ],
      "metadata": {
        "id": "fuvg8TChAkUo"
      }
    },
    {
      "cell_type": "code",
      "source": [],
      "metadata": {
        "id": "A-NlSll-AoQH"
      },
      "execution_count": null,
      "outputs": []
    },
    {
      "cell_type": "markdown",
      "source": [
        "\n",
        "\n",
        "---\n",
        "\n",
        "\n",
        "Funktionen (*args, **kwargs)"
      ],
      "metadata": {
        "id": "WGt4mapfApwR"
      }
    },
    {
      "cell_type": "code",
      "source": [],
      "metadata": {
        "id": "DqcaU75-Azo1"
      },
      "execution_count": null,
      "outputs": []
    },
    {
      "cell_type": "markdown",
      "source": [
        "\n",
        "\n",
        "---\n",
        "\n",
        "\n",
        "Klassen (`__init__`, `__str__`, inheritance, super)"
      ],
      "metadata": {
        "id": "_IdUuhHtAz7Y"
      }
    },
    {
      "cell_type": "code",
      "source": [],
      "metadata": {
        "id": "9Kc__szLA1P-"
      },
      "execution_count": null,
      "outputs": []
    }
  ]
}