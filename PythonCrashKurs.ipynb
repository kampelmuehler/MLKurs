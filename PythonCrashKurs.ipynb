{
  "nbformat": 4,
  "nbformat_minor": 0,
  "metadata": {
    "colab": {
      "provenance": [],
      "authorship_tag": "ABX9TyMz409WmCj6Z5QsnHyStqSu",
      "include_colab_link": true
    },
    "kernelspec": {
      "name": "python3",
      "display_name": "Python 3"
    },
    "language_info": {
      "name": "python"
    }
  },
  "cells": [
    {
      "cell_type": "markdown",
      "metadata": {
        "id": "view-in-github",
        "colab_type": "text"
      },
      "source": [
        "<a href=\"https://colab.research.google.com/github/kampelmuehler/MLKurs/blob/main/PythonCrashKurs.ipynb\" target=\"_parent\"><img src=\"https://colab.research.google.com/assets/colab-badge.svg\" alt=\"Open In Colab\"/></a>"
      ]
    },
    {
      "cell_type": "markdown",
      "source": [
        "Hello World! (print, string)"
      ],
      "metadata": {
        "id": "16yplwjlrw9O"
      }
    },
    {
      "cell_type": "code",
      "execution_count": null,
      "metadata": {
        "id": "NFqUwYzfrug6"
      },
      "outputs": [],
      "source": []
    },
    {
      "cell_type": "markdown",
      "source": [
        "Variablen & operatoren (+, -, *, /, **)"
      ],
      "metadata": {
        "id": "3qDv4QdBwNtT"
      }
    },
    {
      "cell_type": "code",
      "source": [],
      "metadata": {
        "id": "b86dGxmowa82"
      },
      "execution_count": null,
      "outputs": []
    },
    {
      "cell_type": "markdown",
      "source": [
        "Datentyp: Bool (and, or, is, not)"
      ],
      "metadata": {
        "id": "MTsDSGAAwbzt"
      }
    },
    {
      "cell_type": "code",
      "source": [],
      "metadata": {
        "id": "L-qN6IGMAF4-"
      },
      "execution_count": null,
      "outputs": []
    },
    {
      "cell_type": "markdown",
      "source": [
        "Datentyp: String (Deklaration, indexing, +, split, join, replace)"
      ],
      "metadata": {
        "id": "WJZRbKTOAHHr"
      }
    },
    {
      "cell_type": "code",
      "source": [],
      "metadata": {
        "id": "B4qp6ECJxI1f"
      },
      "execution_count": null,
      "outputs": []
    },
    {
      "cell_type": "markdown",
      "source": [
        "Datentyp: Liste (Deklaration, Zuweisung, Anhängen, Indexing, in). Bonus: Comprehensions"
      ],
      "metadata": {
        "id": "qDhyGfs3stX4"
      }
    },
    {
      "cell_type": "code",
      "source": [],
      "metadata": {
        "id": "GyvTi-oOsDCR"
      },
      "execution_count": null,
      "outputs": []
    },
    {
      "cell_type": "markdown",
      "source": [
        "Datentyp: Tuple (Deklaration, Zuweisung?, Indexing, len, in)\n",
        "\n"
      ],
      "metadata": {
        "id": "G2MvWc_OuOu2"
      }
    },
    {
      "cell_type": "code",
      "source": [],
      "metadata": {
        "id": "9u-xyteiuQp2"
      },
      "execution_count": null,
      "outputs": []
    },
    {
      "cell_type": "markdown",
      "source": [
        "Datentyp: Dictionary (Deklaration, Zuweisung, key, values, del, len, in). Bonus: Comprehensions"
      ],
      "metadata": {
        "id": "z6a8mtxNtGmq"
      }
    },
    {
      "cell_type": "code",
      "source": [],
      "metadata": {
        "id": "Ux-fLN0ls9E_"
      },
      "execution_count": null,
      "outputs": []
    },
    {
      "cell_type": "markdown",
      "source": [
        "If, else, elif"
      ],
      "metadata": {
        "id": "4Y4R4IAeuAwT"
      }
    },
    {
      "cell_type": "code",
      "source": [],
      "metadata": {
        "id": "9OPe6uiXt1lk"
      },
      "execution_count": null,
      "outputs": []
    },
    {
      "cell_type": "markdown",
      "source": [
        "Schleifen (for, while, range, enumerate)"
      ],
      "metadata": {
        "id": "fuvg8TChAkUo"
      }
    },
    {
      "cell_type": "code",
      "source": [],
      "metadata": {
        "id": "A-NlSll-AoQH"
      },
      "execution_count": null,
      "outputs": []
    },
    {
      "cell_type": "markdown",
      "source": [
        "Funktionen"
      ],
      "metadata": {
        "id": "WGt4mapfApwR"
      }
    },
    {
      "cell_type": "code",
      "source": [],
      "metadata": {
        "id": "DqcaU75-Azo1"
      },
      "execution_count": null,
      "outputs": []
    },
    {
      "cell_type": "markdown",
      "source": [
        "Klassen (__init__, __str__)"
      ],
      "metadata": {
        "id": "_IdUuhHtAz7Y"
      }
    },
    {
      "cell_type": "code",
      "source": [],
      "metadata": {
        "id": "9Kc__szLA1P-"
      },
      "execution_count": null,
      "outputs": []
    },
    {
      "cell_type": "markdown",
      "source": [],
      "metadata": {
        "id": "BqiWjp-FEo18"
      }
    }
  ]
}