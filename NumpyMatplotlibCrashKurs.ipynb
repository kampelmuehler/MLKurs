{
  "nbformat": 4,
  "nbformat_minor": 0,
  "metadata": {
    "colab": {
      "provenance": [],
      "authorship_tag": "ABX9TyN3QNlgM8uZzz03/ifZc22G",
      "include_colab_link": true
    },
    "kernelspec": {
      "name": "python3",
      "display_name": "Python 3"
    },
    "language_info": {
      "name": "python"
    }
  },
  "cells": [
    {
      "cell_type": "markdown",
      "metadata": {
        "id": "view-in-github",
        "colab_type": "text"
      },
      "source": [
        "<a href=\"https://colab.research.google.com/github/kampelmuehler/MLKurs/blob/main/NumpyMatplotlibCrashKurs.ipynb\" target=\"_parent\"><img src=\"https://colab.research.google.com/assets/colab-badge.svg\" alt=\"Open In Colab\"/></a>"
      ]
    },
    {
      "cell_type": "markdown",
      "source": [
        "Array (dtype, astype, shape, reshape, arange, empty, full, ones, zeros, random - uniform, normal, randint; arange)"
      ],
      "metadata": {
        "id": "fyCNxODfFplS"
      }
    },
    {
      "cell_type": "code",
      "execution_count": null,
      "metadata": {
        "id": "zJL5m0GWFGiU"
      },
      "outputs": [],
      "source": []
    },
    {
      "cell_type": "markdown",
      "source": [
        "\n",
        "\n",
        "---\n",
        "\n",
        "\n",
        "Indexing, Slicing, where, conditional indexing, transpose\n",
        "\n"
      ],
      "metadata": {
        "id": "mmL19K44GOtt"
      }
    },
    {
      "cell_type": "code",
      "source": [],
      "metadata": {
        "id": "jmNjBHT9GTs0"
      },
      "execution_count": null,
      "outputs": []
    },
    {
      "cell_type": "markdown",
      "source": [
        "\n",
        "\n",
        "---\n",
        "\n",
        "Addition, Subtraktion, Multiplikation, dot, matmul"
      ],
      "metadata": {
        "id": "YeBlsq5iGUHI"
      }
    },
    {
      "cell_type": "code",
      "source": [],
      "metadata": {
        "id": "wl2chiNNPUWw"
      },
      "execution_count": null,
      "outputs": []
    },
    {
      "cell_type": "markdown",
      "source": [
        "\n",
        "\n",
        "---\n",
        "\n",
        "\n",
        "hstack, vstack, concat"
      ],
      "metadata": {
        "id": "LkUZcbDtPaMq"
      }
    },
    {
      "cell_type": "code",
      "source": [],
      "metadata": {
        "id": "R56EZ8gUPcri"
      },
      "execution_count": null,
      "outputs": []
    },
    {
      "cell_type": "markdown",
      "source": [
        "\n",
        "\n",
        "---\n",
        "\n",
        "max, min, argmax, argmin, mean, median"
      ],
      "metadata": {
        "id": "aRXxznGsQE_D"
      }
    },
    {
      "cell_type": "code",
      "source": [],
      "metadata": {
        "id": "AaI06UJRQHp8"
      },
      "execution_count": null,
      "outputs": []
    },
    {
      "cell_type": "markdown",
      "source": [
        "\n",
        "\n",
        "---\n",
        "## Matplotlib\n",
        "\n",
        "plot, stem, hist, imshow, xlabel, ylabel"
      ],
      "metadata": {
        "id": "fw0vjaUbT2oY"
      }
    },
    {
      "cell_type": "code",
      "source": [],
      "metadata": {
        "id": "ND7mf7r_T18Y"
      },
      "execution_count": null,
      "outputs": []
    }
  ]
}