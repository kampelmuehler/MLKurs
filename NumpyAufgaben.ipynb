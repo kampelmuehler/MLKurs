{
  "nbformat": 4,
  "nbformat_minor": 0,
  "metadata": {
    "colab": {
      "provenance": [],
      "authorship_tag": "ABX9TyMf2MAxbaOvWOQXE3wvFJlb",
      "include_colab_link": true
    },
    "kernelspec": {
      "name": "python3",
      "display_name": "Python 3"
    },
    "language_info": {
      "name": "python"
    }
  },
  "cells": [
    {
      "cell_type": "markdown",
      "metadata": {
        "id": "view-in-github",
        "colab_type": "text"
      },
      "source": [
        "<a href=\"https://colab.research.google.com/github/kampelmuehler/MLKurs/blob/main/NumpyAufgaben.ipynb\" target=\"_parent\"><img src=\"https://colab.research.google.com/assets/colab-badge.svg\" alt=\"Open In Colab\"/></a>"
      ]
    },
    {
      "cell_type": "markdown",
      "source": [
        "Erstellen Sie ein `(5, 2)` array welches aufsteigende Ganzzahlen in 5er Schritten bei 10 beginnend enthält."
      ],
      "metadata": {
        "id": "nN0GLihbuV85"
      }
    },
    {
      "cell_type": "code",
      "execution_count": null,
      "metadata": {
        "id": "P_83-xkzsuiE"
      },
      "outputs": [],
      "source": []
    },
    {
      "cell_type": "markdown",
      "source": [
        "\n",
        "\n",
        "---\n",
        "\n",
        "Erstellen Sie aus der nachfolgenden Liste ein `array` und finden Sie\n",
        "\n",
        "\n",
        "1.   Das Maximum jeder Zeile\n",
        "2.   Das Minimum jeder Spalte\n",
        "3.   Den globalen Mittelwert und die Standardabweichung\n",
        "\n",
        "\n"
      ],
      "metadata": {
        "id": "yDTVkeNyuVH9"
      }
    },
    {
      "cell_type": "code",
      "source": [
        "data = [[7, 90, 92, 28, 14], [64, 72, 66, 91, 90], [75, 71, 33, 82, 22], [65, 14, 91, 54, 40], [3, 76, 29, 67, 52]]"
      ],
      "metadata": {
        "id": "1vFxRg_OvDR8"
      },
      "execution_count": 6,
      "outputs": []
    },
    {
      "cell_type": "markdown",
      "source": [
        "\n",
        "\n",
        "---\n",
        "Erstellen Sie ein `(4, 2)` `array` aus zufälligen Ganzzahlen im Bereich `[1, 100]` mit Datentyp `float32` und vertauschen Sie anschließend Zeilen und Spalten.\n"
      ],
      "metadata": {
        "id": "v_WBWuiYvoRh"
      }
    },
    {
      "cell_type": "code",
      "source": [],
      "metadata": {
        "id": "cgZ9NoeqyVUQ"
      },
      "execution_count": null,
      "outputs": []
    },
    {
      "cell_type": "markdown",
      "source": [
        "\n",
        "\n",
        "---\n",
        "\n",
        "Stellen sie mit Hilfe von `matplotlib` eine Periode eines Sinus und eine Periode eines Cosinus in einem Diagramm übereinander dar."
      ],
      "metadata": {
        "id": "e1xq1woyyV1k"
      }
    },
    {
      "cell_type": "code",
      "source": [],
      "metadata": {
        "id": "_YNzyPQ_OcBM"
      },
      "execution_count": 10,
      "outputs": []
    },
    {
      "cell_type": "markdown",
      "source": [
        "\n",
        "\n",
        "---\n",
        "\n",
        "Erstellen Sie ein Histogramm einer Normalverteilung (=Gauß-Kurve)."
      ],
      "metadata": {
        "id": "gNTntggDOffl"
      }
    },
    {
      "cell_type": "code",
      "source": [],
      "metadata": {
        "id": "8uDA8TUJOsTD"
      },
      "execution_count": 10,
      "outputs": []
    },
    {
      "cell_type": "markdown",
      "source": [
        "\n",
        "\n",
        "---\n",
        "Nutzen Sie `scatter` um eine 2 dimensionale Normalverteilung die um `(1, 1)` zentriert ist darzustellen.\n"
      ],
      "metadata": {
        "id": "s_6LicY1Ovdr"
      }
    },
    {
      "cell_type": "code",
      "source": [],
      "metadata": {
        "id": "EYjPkQpMPTVl"
      },
      "execution_count": null,
      "outputs": []
    }
  ]
}