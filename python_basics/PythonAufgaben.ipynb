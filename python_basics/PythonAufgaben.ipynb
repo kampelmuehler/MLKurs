{
  "nbformat": 4,
  "nbformat_minor": 0,
  "metadata": {
    "colab": {
      "provenance": [],
      "authorship_tag": "ABX9TyPq3DwdQEBe0uD5U19bjH1d",
      "include_colab_link": true
    },
    "kernelspec": {
      "name": "python3",
      "display_name": "Python 3"
    },
    "language_info": {
      "name": "python"
    }
  },
  "cells": [
    {
      "cell_type": "markdown",
      "metadata": {
        "id": "view-in-github",
        "colab_type": "text"
      },
      "source": [
        "<a href=\"https://colab.research.google.com/github/kampelmuehler/MLKurs/blob/main/PythonAufgaben.ipynb\" target=\"_parent\"><img src=\"https://colab.research.google.com/assets/colab-badge.svg\" alt=\"Open In Colab\"/></a>"
      ]
    },
    {
      "cell_type": "markdown",
      "source": [
        "Verändern Sie die folgende Codezeile so, dass sie\n",
        "\n",
        "```\n",
        "Hlowrd\n",
        "```\n",
        "ausgibt.\n"
      ],
      "metadata": {
        "id": "pGvBwHKm1469"
      }
    },
    {
      "cell_type": "code",
      "source": [
        "print(\"Hello world\")"
      ],
      "metadata": {
        "id": "kGMef0Yx2HBk"
      },
      "execution_count": null,
      "outputs": []
    },
    {
      "cell_type": "markdown",
      "source": [
        "\n",
        "\n",
        "---\n",
        "\n",
        "\n",
        "Schreiben Sie eine Funktion `remove_chars(string, n)` die einen String bis zum \n",
        "nten Element zurückgibt.\n",
        "\n",
        "Beispiel:\n",
        "\n",
        "\n",
        "```\n",
        "in: remove_chars(\"HTL Leoben\", 3)\n",
        "out: HTL\n",
        "```\n",
        "\n"
      ],
      "metadata": {
        "id": "D2P46HXByVb7"
      }
    },
    {
      "cell_type": "code",
      "execution_count": null,
      "metadata": {
        "id": "W72RIv6jwlUe"
      },
      "outputs": [],
      "source": []
    },
    {
      "cell_type": "markdown",
      "source": [
        "\n",
        "\n",
        "---\n",
        "\n",
        "\n",
        "Schreiben Sie eine Funktion `pyramid(n)` welche einen String nach folgendem \n",
        "Muster (für `n=4`) zurückgibt:\n",
        "\n",
        "\n",
        "```\n",
        "1\n",
        "2:2\n",
        "3:3:3\n",
        "4:4:4:4\n",
        "```\n",
        "\n"
      ],
      "metadata": {
        "id": "SVz-Kxg4zx7G"
      }
    },
    {
      "cell_type": "code",
      "source": [],
      "metadata": {
        "id": "mcTSU9X_1FHq"
      },
      "execution_count": null,
      "outputs": []
    },
    {
      "cell_type": "markdown",
      "source": [
        "\n",
        "\n",
        "---\n",
        "\n",
        "\n",
        "Schreiben Sie eine Funktion `my_sum(n)`, welche die Quersumme einer Ganzzahl zurückgibt.\n",
        "\n",
        "Beispiel:\n",
        "\n",
        "\n",
        "```\n",
        "in: my_sum(1234)\n",
        "out: 10\n",
        "```\n",
        "\n"
      ],
      "metadata": {
        "id": "SphEvIsJ1HUA"
      }
    },
    {
      "cell_type": "code",
      "source": [],
      "metadata": {
        "id": "bgenU4a_4tKu"
      },
      "execution_count": null,
      "outputs": []
    },
    {
      "cell_type": "markdown",
      "source": [
        "\n",
        "\n",
        "---\n",
        "\n",
        "\n",
        "Schreiben Sie eine Funktion `my_other_sum(n)`, welche die Summe aller Zahlen bis zu einer bestimmten natürlichen Zahl zurückgibt.\n",
        "\n",
        "Beispiel:\n",
        "\n",
        "\n",
        "```\n",
        "in: my_other_sum(9)\n",
        "out: 45\n",
        "```\n",
        "\n",
        "Bonus: Arithmetische Lösung."
      ],
      "metadata": {
        "id": "Vfb_i8iu3c89"
      }
    },
    {
      "cell_type": "code",
      "source": [],
      "metadata": {
        "id": "C34iEzzS5L7X"
      },
      "execution_count": null,
      "outputs": []
    },
    {
      "cell_type": "markdown",
      "source": [
        "\n",
        "\n",
        "---\n",
        "\n",
        "\n",
        "Schreiben Sie eine Funktion `fact(n)` welche die Faktorielle von n zurückgibt: \n",
        "\n",
        "`n!=1x2x3x4x5x...xn-1xn`.\n",
        "\n"
      ],
      "metadata": {
        "id": "0UlgPrv05XSi"
      }
    },
    {
      "cell_type": "code",
      "source": [],
      "metadata": {
        "id": "CZuF88WL6i3y"
      },
      "execution_count": null,
      "outputs": []
    },
    {
      "cell_type": "markdown",
      "source": [
        "\n",
        "\n",
        "---\n",
        "\n",
        "\n",
        "Schreiben Sie eine Funktion `my_product(...)`, welche das Produkt ihrer beliebig vielen Argumente zurückgibt.\n",
        "\n",
        "Beispiel:\n",
        "\n",
        "\n",
        "```\n",
        "in: my_product(9)\n",
        "out: 9\n",
        "in: my_product(9, 4)\n",
        "out: 36\n",
        "```\n",
        "\n"
      ],
      "metadata": {
        "id": "SCA6TGCM6jra"
      }
    },
    {
      "cell_type": "code",
      "source": [],
      "metadata": {
        "id": "sXelh2767wpK"
      },
      "execution_count": null,
      "outputs": []
    },
    {
      "cell_type": "markdown",
      "source": [
        "\n",
        "\n",
        "---\n",
        "\n",
        "\n",
        "Schreiben Sie eine Funktion `string_count(string)`, welche die Anzahl jedes Buchstaben in einem String als dictionary zurückgibt.\n",
        "\n",
        "Beispiel:\n",
        "```\n",
        "in: string_count(\"HTL Leoben\")\n",
        "out: {'H': 1, 'T': 1, 'L': 2, 'e': 2, 'o': 1, 'b': 1, 'n': 1}\n",
        "```\n",
        "\n"
      ],
      "metadata": {
        "id": "RZjZO8-q7xDI"
      }
    },
    {
      "cell_type": "markdown",
      "source": [
        "\n",
        "\n",
        "---\n",
        "\n",
        "\n",
        "Schreiben Sie eine Klasse `Rectangle(length, width)` welche als Attribute die Länge und Breite des Rechtecks hält und eine Methode `area()` zum Berechnen des Flächeninhaltes und eine Methode `circ()` zum Berechnen des Umfangs bereitstellt. Außerdem soll `print(Rectangle(a, b))` (a, b als Beispiel für Länge und Breite) folgende Ausgabe liefern: `Rectangle axb`."
      ],
      "metadata": {
        "id": "OEAn0E_XCYbH"
      }
    },
    {
      "cell_type": "code",
      "source": [],
      "metadata": {
        "id": "_U93Z0xLFfEU"
      },
      "execution_count": null,
      "outputs": []
    },
    {
      "cell_type": "markdown",
      "source": [
        "Schreiben Sie nun eine weitere Klasse `Square(length)` welche von `Rectangle` erbt und die Methoden von `Rectangle` übernimmt. `print(Square(a))` (a als Beispiel für Seitenlänge) soll nun folgende Ausgabe liefern: `Square a`."
      ],
      "metadata": {
        "id": "sR-x_peEF86A"
      }
    },
    {
      "cell_type": "code",
      "source": [],
      "metadata": {
        "id": "CpCetnv6IceT"
      },
      "execution_count": null,
      "outputs": []
    },
    {
      "cell_type": "markdown",
      "source": [
        "\n",
        "\n",
        "---\n",
        "\n",
        "Bonus: Schreiben Sie die nachfolgende Schleife in eine comprehension um. Können Sie den Code noch weiter vereinfachen?"
      ],
      "metadata": {
        "id": "a0D7cHrtGhwm"
      }
    },
    {
      "cell_type": "code",
      "source": [
        "result = []\n",
        "for i in range(10):\n",
        "  if i % 2 == 0:\n",
        "    result.append(i**2)\n",
        "print(result)"
      ],
      "metadata": {
        "id": "127Hw7oFGoHR"
      },
      "execution_count": null,
      "outputs": []
    },
    {
      "cell_type": "markdown",
      "source": [
        "\n",
        "\n",
        "---\n",
        "\n",
        "Bonus: Schreiben Sie die nachfolgende Schleife in eine comprehension um."
      ],
      "metadata": {
        "id": "niCSeBEqLnO_"
      }
    },
    {
      "cell_type": "code",
      "source": [
        "people = {'Hansi': 18, 'Franzl': 28, 'Berta': 37, 'Babette': 16}\n",
        "result = {}\n",
        "for (name, age) in people.items():\n",
        "  if age > 20:\n",
        "    result[name] = \"old\"\n",
        "  else:\n",
        "    result[name] = \"young\"\n",
        "print(result)"
      ],
      "metadata": {
        "id": "I-9ng4H3LuMj"
      },
      "execution_count": null,
      "outputs": []
    },
    {
      "cell_type": "markdown",
      "source": [
        "\n",
        "\n",
        "---\n",
        "\n",
        "\n",
        "Der unten folgende Codeblock überprüft die von Ihnen implementierten Funktionen. Wenn alles wie gedacht funktioniert, sollte der Codeblock fehlerfrei durchlaufen."
      ],
      "metadata": {
        "id": "JEBIxI-VFfce"
      }
    },
    {
      "cell_type": "code",
      "source": [
        "assert remove_chars(\"HTL Leoben\", 3) == \"HTL\"\n",
        "assert pyramid(3) == \"1\\n2:2\\n3:3:3\\n\"\n",
        "assert my_sum(1234) == 10\n",
        "assert my_other_sum(9) == 45\n",
        "assert fact(13) == 6227020800\n",
        "assert my_product(1, 2, 3, 4, 5) == 120\n",
        "assert string_count(\"HTL Leoben\") == {'H': 1, 'T': 1, 'L': 2, 'e': 2, 'o': 1, 'b': 1, 'n': 1}\n",
        "assert Rectangle(2, 3).area() == 6\n",
        "assert Rectangle(2, 2).circ() == 8\n",
        "assert Rectangle(1, 2).__str__() == \"Rectangle 1x2\"\n",
        "assert Square(2).area() == 4\n",
        "assert Square(3).circ() == 12\n",
        "assert Square(7).__str__() == \"Square 7\"\n",
        "assert isinstance(Square(1), Rectangle)\n",
        "print(\"Geschafft!\")"
      ],
      "metadata": {
        "id": "qiLyRWg88PGE"
      },
      "execution_count": null,
      "outputs": []
    }
  ]
}