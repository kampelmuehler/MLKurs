{
  "nbformat": 4,
  "nbformat_minor": 0,
  "metadata": {
    "colab": {
      "provenance": [],
      "authorship_tag": "ABX9TyOA1KQuZY6ts3HBNDvb2C6h",
      "include_colab_link": true
    },
    "kernelspec": {
      "name": "python3",
      "display_name": "Python 3"
    },
    "language_info": {
      "name": "python"
    }
  },
  "cells": [
    {
      "cell_type": "markdown",
      "metadata": {
        "id": "view-in-github",
        "colab_type": "text"
      },
      "source": [
        "<a href=\"https://colab.research.google.com/github/kampelmuehler/MLKurs/blob/main/MNIST/MNIST_Demo.ipynb\" target=\"_parent\"><img src=\"https://colab.research.google.com/assets/colab-badge.svg\" alt=\"Open In Colab\"/></a>"
      ]
    },
    {
      "cell_type": "code",
      "source": [
        "#@title Setup\n",
        "# adapted from https://gist.github.com/rickkk856/6a2800cc84dd8fd456074e5a467edc47 and https://daily-dev-tips.com/posts/javascript-mouse-drawing-on-the-canvas/\n",
        "! pip install onnxruntime --quiet\n",
        "! wget -nc 'https://github.com/kampelmuehler/MLKurs/raw/main/MNIST/MNIST.onnx'\n",
        "import ipywidgets as widgets\n",
        "from ipywidgets import Layout, Button, Box\n",
        "from IPython.display import display, HTML, Image\n",
        "from google.colab.output import eval_js\n",
        "from base64 import b64decode\n",
        "import cv2\n",
        "from google.colab.patches import cv2_imshow\n",
        "import numpy as np\n",
        "import onnxruntime as ort\n",
        "\n",
        "canvas_size = 256\n",
        "img = None\n",
        "\n",
        "js_code = '''\n",
        "<style>\n",
        "  div {\n",
        "      display: flex;\n",
        "  }\n",
        "  canvas{border:1px solid white !important;cursor:crosshair}\n",
        "</style>\n",
        "<canvas id=\"myCanvas\" width=\"%d\" height=\"%d\"></canvas>\n",
        "<script>\n",
        "  var canvas = document.querySelector('canvas')\n",
        "  var ctx = canvas.getContext('2d')\n",
        "  ctx.fillStyle = 'black';\n",
        "  ctx.fillRect( 0, 0, canvas.width, canvas.height)\n",
        "  var button = document.querySelector('button')\n",
        "  let coord = { x: 0, y: 0 };\n",
        "  canvas.onmousedown = ()=>{\n",
        "    canvas.addEventListener('mousemove', draw)\n",
        "    reposition(event);\n",
        "  }\n",
        "  canvas.onmouseup = ()=>{\n",
        "    canvas.removeEventListener('mousemove', draw)\n",
        "  }\n",
        "  function reposition(event) {\n",
        "    coord.x = event.clientX - canvas.offsetLeft;\n",
        "    coord.y = event.clientY - canvas.offsetTop;\n",
        "  }\n",
        "\n",
        "  function draw (event) {\n",
        "    ctx.beginPath();\n",
        "    ctx.lineWidth = 27;\n",
        "    ctx.lineCap = \"round\";\n",
        "    ctx.strokeStyle = \"white\";\n",
        "    ctx.moveTo(coord.x, coord.y);\n",
        "    reposition(event);\n",
        "    ctx.lineTo(coord.x, coord.y);\n",
        "    ctx.stroke();\n",
        "  }\n",
        "    // FINISH BUTTON\n",
        "  var data = new Promise(resolve=>{\n",
        "    button.onclick = ()=>{\n",
        "      resolve(canvas.toDataURL('image/jpg'))\n",
        "    }\n",
        "  })\n",
        "</script>\n",
        "'''\n",
        "\n",
        "\n",
        "## main drawing function\n",
        "def draw(w=canvas_size, h=canvas_size):\n",
        "  display(HTML(js_code % (w, h)))\n",
        "  data = eval_js(\"data\")\n",
        "  binary = b64decode(data.split(',')[1])  \n",
        "\n",
        "# Action for Save Button\n",
        "def on_button_clicked(b):\n",
        "  global img\n",
        "  with output:\n",
        "    data = eval_js(\"data\")\n",
        "    binary = b64decode(data.split(',')[1])\n",
        "    nparr = np.frombuffer(binary, np.uint8)\n",
        "    img = cv2.imdecode(nparr, cv2.IMREAD_GRAYSCALE)\n",
        "    img = cv2.resize(img, (28, 28))\n",
        "    x = (img[None, None, :, :].astype(np.float32) / 255 - 0.1307) / 0.3081\n",
        "    ort_sess = ort.InferenceSession('MNIST.onnx')\n",
        "    outputs = ort_sess.run(None, {'input': x})\n",
        "\n",
        "    # Print Result \n",
        "    print(f\"You have drawn a {np.argmax(outputs[0])}\")"
      ],
      "metadata": {
        "cellView": "form",
        "id": "Pmat_vdUSKEs"
      },
      "execution_count": null,
      "outputs": []
    },
    {
      "cell_type": "code",
      "execution_count": null,
      "metadata": {
        "id": "B4EKwPJmLUNV"
      },
      "outputs": [],
      "source": [
        "## Show Save Button & Save outputs\n",
        "button = widgets.Button(description=\"Submit\")\n",
        "button.on_click(on_button_clicked)\n",
        "output = widgets.Output()\n",
        "display(button, output)\n",
        "\n",
        "## Show Canvas for the First Time\n",
        "draw()"
      ]
    }
  ]
}