{
  "nbformat": 4,
  "nbformat_minor": 0,
  "metadata": {
    "colab": {
      "provenance": [],
      "authorship_tag": "ABX9TyMwVYXR2JU/M8JZsDSg4xwc",
      "include_colab_link": true
    },
    "kernelspec": {
      "name": "python3",
      "display_name": "Python 3"
    },
    "language_info": {
      "name": "python"
    }
  },
  "cells": [
    {
      "cell_type": "markdown",
      "metadata": {
        "id": "view-in-github",
        "colab_type": "text"
      },
      "source": [
        "<a href=\"https://colab.research.google.com/github/kampelmuehler/MLKurs/blob/main/MNIST/MNIST_sklearn.ipynb\" target=\"_parent\"><img src=\"https://colab.research.google.com/assets/colab-badge.svg\" alt=\"Open In Colab\"/></a>"
      ]
    },
    {
      "cell_type": "code",
      "execution_count": 1,
      "metadata": {
        "cellView": "form",
        "id": "7QaI886z2anx"
      },
      "outputs": [],
      "source": [
        "#@title Setup\n",
        "import matplotlib.pyplot as plt\n",
        "from sklearn.datasets import fetch_openml\n",
        "from sklearn.neural_network import MLPClassifier\n",
        "from sklearn.model_selection import train_test_split\n",
        "import numpy as np\n",
        "\n",
        "# Daten Laden\n",
        "X, y = fetch_openml(\n",
        "    \"mnist_784\", version=1, return_X_y=True, as_frame=False,\n",
        ")\n",
        "X = X / 255.0\n",
        "best_test_score = 0"
      ]
    },
    {
      "cell_type": "code",
      "source": [
        "# Train / Test split\n",
        "X_train, X_test, y_train, y_test = train_test_split(X, y, random_state=0, test_size=0.1)"
      ],
      "metadata": {
        "id": "C-gL-EhU2thc"
      },
      "execution_count": 2,
      "outputs": []
    },
    {
      "cell_type": "code",
      "source": [
        "mlp = MLPClassifier(\n",
        "    hidden_layer_sizes=(10,),\n",
        "    solver=\"sgd\",\n",
        "    random_state=1,\n",
        "    learning_rate_init=0.2,\n",
        ")\n",
        "\n",
        "num_epochs = 5\n",
        "train_scores = []\n",
        "test_scores = []\n",
        "for i in range(num_epochs):\n",
        "  mlp.partial_fit(X_train, y_train, classes=np.unique(y_train))\n",
        "  print(f\"Epoche {i+1}: Training set: {mlp.score(X_train, y_train) * 100:.02f} %\")\n",
        "  print(f\"\\t  Test set:     {mlp.score(X_test, y_test) * 100:.02f} %\")\n",
        "  print(\"-\" * 30)\n",
        "  train_scores.append(mlp.score(X_train, y_train))\n",
        "  test_scores.append(mlp.score(X_test, y_test))\n",
        "  if mlp.score(X_test, y_test) > best_test_score:\n",
        "    best_test_score = mlp.score(X_test, y_test)\n",
        "print(f\"Beste Genauigkeit insgesamt: {best_test_score * 100:.02f} %\")\n",
        "\n",
        "plt.title(\"Train & Test Genauigkeit\")\n",
        "plt.xlabel(\"Epoche\")\n",
        "plt.ylabel(\"Genauigkeit\")\n",
        "plt.plot(train_scores)\n",
        "plt.plot(test_scores)\n",
        "plt.xticks(np.arange(num_epochs) + 1)\n",
        "plt.legend([\"train\", \"test\"])\n",
        "plt.show()"
      ],
      "metadata": {
        "id": "OZoqzbSP2lfm"
      },
      "execution_count": null,
      "outputs": []
    }
  ]
}