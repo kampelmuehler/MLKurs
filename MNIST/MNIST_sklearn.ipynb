{
  "nbformat": 4,
  "nbformat_minor": 0,
  "metadata": {
    "colab": {
      "provenance": [],
      "authorship_tag": "ABX9TyM9hSbD2nBtEhdQHOR9uVkl",
      "include_colab_link": true
    },
    "kernelspec": {
      "name": "python3",
      "display_name": "Python 3"
    },
    "language_info": {
      "name": "python"
    }
  },
  "cells": [
    {
      "cell_type": "markdown",
      "metadata": {
        "id": "view-in-github",
        "colab_type": "text"
      },
      "source": [
        "<a href=\"https://colab.research.google.com/github/kampelmuehler/MLKurs/blob/main/MNIST/MNIST_sklearn.ipynb\" target=\"_parent\"><img src=\"https://colab.research.google.com/assets/colab-badge.svg\" alt=\"Open In Colab\"/></a>"
      ]
    },
    {
      "cell_type": "code",
      "execution_count": 2,
      "metadata": {
        "cellView": "form",
        "id": "7QaI886z2anx"
      },
      "outputs": [],
      "source": [
        "#@title Setup\n",
        "import matplotlib.pyplot as plt\n",
        "from sklearn.datasets import fetch_openml\n",
        "from sklearn.neural_network import MLPClassifier\n",
        "from sklearn.model_selection import train_test_split\n",
        "import numpy as np\n",
        "\n",
        "# Daten Laden\n",
        "X, y = fetch_openml(\n",
        "    \"mnist_784\", version=1, return_X_y=True, as_frame=False,\n",
        ")\n",
        "X = X / 255.0"
      ]
    },
    {
      "cell_type": "code",
      "source": [
        "# Train / Test split\n",
        "X_train, X_test, y_train, y_test = train_test_split(X, y, random_state=0, test_size=0.1)"
      ],
      "metadata": {
        "id": "C-gL-EhU2thc"
      },
      "execution_count": 3,
      "outputs": []
    },
    {
      "cell_type": "code",
      "source": [
        "mlp = MLPClassifier(\n",
        "    hidden_layer_sizes=(20,),\n",
        "    solver=\"sgd\",\n",
        "    random_state=1,\n",
        "    learning_rate_init=0.2,\n",
        ")\n",
        "\n",
        "num_epochs = 5\n",
        "for i in range(num_epochs):\n",
        "  mlp.partial_fit(X_train, y_train, classes=np.unique(y_train))\n",
        "  print(f\"Epoche {i+1}: Training set: {mlp.score(X_train, y_train) * 100:.02f}%\")\n",
        "  print(f\"\\t  Test set:     {mlp.score(X_test, y_test) * 100:.02f}%\")\n",
        "  print(\"-\" * 30)"
      ],
      "metadata": {
        "id": "OZoqzbSP2lfm"
      },
      "execution_count": null,
      "outputs": []
    }
  ]
}