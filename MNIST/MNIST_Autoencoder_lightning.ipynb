{
  "nbformat": 4,
  "nbformat_minor": 0,
  "metadata": {
    "colab": {
      "provenance": [],
      "include_colab_link": true
    },
    "kernelspec": {
      "name": "python3",
      "display_name": "Python 3"
    },
    "language_info": {
      "name": "python"
    },
    "accelerator": "GPU",
    "gpuClass": "standard"
  },
  "cells": [
    {
      "cell_type": "markdown",
      "metadata": {
        "id": "view-in-github",
        "colab_type": "text"
      },
      "source": [
        "<a href=\"https://colab.research.google.com/github/kampelmuehler/MLKurs/blob/main/MNIST/MNIST_Autoencoder_lightning.ipynb\" target=\"_parent\"><img src=\"https://colab.research.google.com/assets/colab-badge.svg\" alt=\"Open In Colab\"/></a>"
      ]
    },
    {
      "cell_type": "code",
      "source": [
        "#@title Setup\n",
        "! pip install --quiet \"torchvision\" \"torch>=1.8\" \"torchmetrics>=0.7\" \"pytorch-lightning>=1.4\"\n",
        "import os\n",
        "\n",
        "import torch\n",
        "from pytorch_lightning import LightningModule, Trainer\n",
        "from torch import nn\n",
        "from torch.nn import functional as F\n",
        "from torch.utils.data import DataLoader, random_split\n",
        "from torchmetrics import Accuracy\n",
        "from torchvision import transforms\n",
        "from torchvision.datasets import MNIST\n",
        "from torchvision.utils import make_grid\n",
        "import numpy as np\n",
        "import matplotlib.pyplot as plt\n",
        "from PIL import Image\n",
        "\n",
        "BATCH_SIZE = 256 if torch.cuda.is_available() else 64"
      ],
      "metadata": {
        "id": "3iHZYwCjcdu_",
        "cellView": "form"
      },
      "execution_count": 2,
      "outputs": []
    },
    {
      "cell_type": "code",
      "execution_count": 3,
      "metadata": {
        "id": "MJ9CyY0JcVda"
      },
      "outputs": [],
      "source": [
        "class MNISTAutoencoder(LightningModule):\n",
        "    def __init__(self, bottleneck, data_dir=\"./data\", learning_rate=2e-4):\n",
        "\n",
        "        super().__init__()\n",
        "        self.bottleneck = bottleneck\n",
        "        self.data_dir = data_dir\n",
        "        self.learning_rate = learning_rate\n",
        "\n",
        "        # Parameter für den Datensatz\n",
        "        self.num_classes = 10\n",
        "        self.dims = (1, 28, 28)\n",
        "        channels, width, height = self.dims\n",
        "        self.transform_train = transforms.Compose(\n",
        "            [\n",
        "                transforms.ToTensor(),\n",
        "                transforms.Normalize((0.1307,), (0.3081,)),\n",
        "            ]\n",
        "        )\n",
        "        self.transform_predict = transforms.Compose(\n",
        "            [\n",
        "                transforms.ToTensor(),\n",
        "                transforms.Normalize((0.1307,), (0.3081,)),\n",
        "            ]\n",
        "        )\n",
        "        self.transform_visualize = transforms.Compose(\n",
        "            [\n",
        "                transforms.Normalize((-0.1307 / 0.3081,), (1 / 0.3081,)),\n",
        "            ]\n",
        "        )\n",
        "\n",
        "        self.activation = nn.ReLU()\n",
        "        # Modelle definieren\n",
        "        self.encoder = nn.Sequential( \n",
        "        )\n",
        "        self.decoder = nn.Sequential( \n",
        "        )\n",
        "\n",
        "    def forward(self, x):\n",
        "        encoding = self.encoder(x)\n",
        "        return self.decoder(encoding)  # Achtung! Shape!\n",
        "\n",
        "    def training_step(self, batch, batch_idx):\n",
        "        x, y = batch\n",
        "        loss = None\n",
        "        return loss\n",
        "\n",
        "    def on_validation_batch_start(self, batch, batch_idx, dataloader_idx):\n",
        "      inputs = batch[0]\n",
        "      if batch_idx == 0:\n",
        "        reconstruction = self(inputs)\n",
        "        input_grid = make_grid(inputs[0:64], 8, padding=4, pad_value=inputs.max())\n",
        "        reconstruction_grid = make_grid(reconstruction[0:64], 8, padding=4, pad_value=inputs.max())\n",
        "        input_grid = self.transform_visualize(input_grid)\n",
        "        reconstruction_grid = self.transform_visualize(reconstruction_grid)\n",
        "        input_grid = transforms.ToPILImage()(input_grid)\n",
        "        reconstruction_grid = transforms.ToPILImage()(torch.clamp(reconstruction_grid, 0, 1))\n",
        "        dst = Image.new('L', (input_grid.width + input_grid.width + 20, input_grid.height))\n",
        "        dst.paste(input_grid, (0, 0))\n",
        "        dst.paste(reconstruction_grid, (reconstruction_grid.width + 20, 0))\n",
        "        display(dst)\n",
        "\n",
        "    def validation_step(self, batch, batch_idx):\n",
        "        x, _ = batch\n",
        "        reconstruction = self(x)\n",
        "        loss = F.binary_cross_entropy_with_logits(x, reconstruction)\n",
        "        return loss\n",
        "\n",
        "    def configure_optimizers(self):\n",
        "        optimizer = torch.optim.Adam(self.parameters(), lr=self.learning_rate)\n",
        "        return optimizer\n",
        "\n",
        "    ####################\n",
        "    # Datensatz vorbereiten\n",
        "    ####################\n",
        "\n",
        "    def prepare_data(self):\n",
        "        MNIST(self.data_dir, train=True, download=True)\n",
        "\n",
        "    def setup(self, stage=None):\n",
        "        mnist_full = MNIST(self.data_dir, train=True, transform=self.transform_train)\n",
        "        self.mnist_train, self.mnist_val = random_split(mnist_full, [55000, 5000])\n",
        "\n",
        "    def train_dataloader(self):\n",
        "        return DataLoader(self.mnist_train, batch_size=BATCH_SIZE)\n",
        "\n",
        "    def val_dataloader(self):\n",
        "        return DataLoader(self.mnist_val, batch_size=BATCH_SIZE)"
      ]
    },
    {
      "cell_type": "code",
      "source": [
        "model = MNISTAutoencoder(bottleneck=None)\n",
        "trainer = Trainer(\n",
        "    accelerator=\"auto\",\n",
        "    devices=\"auto\", \n",
        "    max_epochs=10,\n",
        ")\n",
        "trainer.fit(model)"
      ],
      "metadata": {
        "id": "VwP9qLq0eWKh"
      },
      "execution_count": null,
      "outputs": []
    }
  ]
}