{
  "nbformat": 4,
  "nbformat_minor": 0,
  "metadata": {
    "colab": {
      "provenance": [],
      "authorship_tag": "ABX9TyPBKvnCrPSwGhQV5lW+Hw/x",
      "include_colab_link": true
    },
    "kernelspec": {
      "name": "python3",
      "display_name": "Python 3"
    },
    "language_info": {
      "name": "python"
    }
  },
  "cells": [
    {
      "cell_type": "markdown",
      "metadata": {
        "id": "view-in-github",
        "colab_type": "text"
      },
      "source": [
        "<a href=\"https://colab.research.google.com/github/kampelmuehler/MLKurs/blob/main/image_recognition/SemanticSegmentationDemo.ipynb\" target=\"_parent\"><img src=\"https://colab.research.google.com/assets/colab-badge.svg\" alt=\"Open In Colab\"/></a>"
      ]
    },
    {
      "cell_type": "code",
      "execution_count": 28,
      "metadata": {
        "cellView": "form",
        "id": "XwbGN2aQNZ3R"
      },
      "outputs": [],
      "source": [
        "#@title Setup\n",
        "import torch\n",
        "from torchvision import models\n",
        "from PIL import Image\n",
        "import urllib\n",
        "import ast\n",
        "import matplotlib.pyplot as plt\n",
        "\n",
        "\n",
        "weights = models.segmentation.DeepLabV3_MobileNet_V3_Large_Weights.DEFAULT\n",
        "transform = models.segmentation.DeepLabV3_MobileNet_V3_Large_Weights.COCO_WITH_VOC_LABELS_V1.transforms()\n",
        "model = models.segmentation.deeplabv3_mobilenet_v3_large(weights=weights)\n",
        "model.eval()\n",
        "\n",
        "def read_image(url):\n",
        "  img = Image.open(urllib.request.urlopen(url)).convert(\"RGB\")\n",
        "  thumbnail = img.copy()\n",
        "  thumbnail.thumbnail((400, 400), Image.ANTIALIAS)\n",
        "  display(thumbnail)\n",
        "  return transform(img).unsqueeze(0), thumbnail.size\n",
        "\n",
        "palette = torch.tensor([2 ** 25 - 1, 2 ** 15 - 1, 2 ** 21 - 1])\n",
        "colors = torch.as_tensor([i for i in range(21)])[:, None] * palette\n",
        "colors = (colors % 255).numpy().astype(\"uint8\")"
      ]
    },
    {
      "cell_type": "markdown",
      "source": [
        "# COCO Semantische Segmentierung\n",
        "\n",
        "Hier könnt ihr ein auf Resnet50 basierendes DeepLabV3 Modell, welches auf COCO, ausprobieren. Einfach eine url zu einem Bild einfügen."
      ],
      "metadata": {
        "id": "2JvsKQMjOBmk"
      }
    },
    {
      "cell_type": "code",
      "source": [
        "url = \"\"\n",
        "img, thumbnail_size = read_image(url)\n",
        "result = model(img)['out'][0].argmax(0)\n",
        "\n",
        "\n",
        "# plot the semantic segmentation predictions of 21 classes in each color\n",
        "result_img = Image.fromarray(result.byte().cpu().numpy()).resize(thumbnail_size)\n",
        "result_img.putpalette(colors)\n",
        "display(result_img)"
      ],
      "metadata": {
        "id": "g-uMGrYQN-1C"
      },
      "execution_count": null,
      "outputs": []
    }
  ]
}