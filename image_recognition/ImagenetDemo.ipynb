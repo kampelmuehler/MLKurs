{
  "nbformat": 4,
  "nbformat_minor": 0,
  "metadata": {
    "colab": {
      "provenance": [],
      "authorship_tag": "ABX9TyNFgFbfDqAPZ8vBHgd5LTtE",
      "include_colab_link": true
    },
    "kernelspec": {
      "name": "python3",
      "display_name": "Python 3"
    },
    "language_info": {
      "name": "python"
    }
  },
  "cells": [
    {
      "cell_type": "markdown",
      "metadata": {
        "id": "view-in-github",
        "colab_type": "text"
      },
      "source": [
        "<a href=\"https://colab.research.google.com/github/kampelmuehler/MLKurs/blob/main/image_recognition/ImagenetDemo.ipynb\" target=\"_parent\"><img src=\"https://colab.research.google.com/assets/colab-badge.svg\" alt=\"Open In Colab\"/></a>"
      ]
    },
    {
      "cell_type": "code",
      "execution_count": null,
      "metadata": {
        "id": "6UmDpc5g9Llv",
        "cellView": "form"
      },
      "outputs": [],
      "source": [
        "#@title Setup\n",
        "import torch\n",
        "from torchvision import models\n",
        "from PIL import Image\n",
        "import urllib\n",
        "import ast\n",
        "\n",
        "\n",
        "weights = models.ResNet101_Weights.DEFAULT\n",
        "transform = models.ResNet101_Weights.IMAGENET1K_V2.transforms()\n",
        "model = models.resnet101(weights=weights)\n",
        "model.eval()\n",
        "label_names_de = ast.literal_eval(urllib.request.urlopen(\"https://raw.githubusercontent.com/kampelmuehler/MLKurs/main/image_recognition/imagenet_classes_de.json\").read().decode('utf-8'))\n",
        "label_names_de = {int(k): v for k, v in label_names_de.items()}\n",
        "label_names = ast.literal_eval(urllib.request.urlopen(\"https://gist.githubusercontent.com/yrevar/942d3a0ac09ec9e5eb3a/raw/238f720ff059c1f82f368259d1ca4ffa5dd8f9f5/imagenet1000_clsidx_to_labels.txt\").read().decode('utf-8'))\n",
        "\n",
        "\n",
        "def read_image(url):\n",
        "  req = urllib.request.Request(\n",
        "    url, \n",
        "    data=None, \n",
        "    headers={\n",
        "        'User-Agent': 'Mozilla/5.0 (Macintosh; Intel Mac OS X 10_9_3) AppleWebKit/537.36 (KHTML, like Gecko) Chrome/35.0.1916.47 Safari/537.36'\n",
        "    }\n",
        "  )\n",
        "  img = Image.open(urllib.request.urlopen(req)).convert(\"RGB\")\n",
        "  thumbnail = img.copy()\n",
        "  thumbnail.thumbnail((400, 400), Image.ANTIALIAS)\n",
        "  display(thumbnail)\n",
        "  return transform(img).unsqueeze(0)"
      ]
    },
    {
      "cell_type": "markdown",
      "source": [
        "# Imagenet Objekterkennung\n",
        "\n",
        "Hier könnt ihr ein ResNet101, welches auf ImageNet `81.9% Top-1` und `95.7% Top-5` accuracy erzielt, ausprobieren. Einfach eine url zu einem Bild einfügen.\n",
        "\n",
        "Die verfügbaren Klassen finden Sie in den Variablen `label_names` bzw. `label_names_de` (Google translate von `label_names`)."
      ],
      "metadata": {
        "id": "bibX0oAhGgjK"
      }
    },
    {
      "cell_type": "code",
      "source": [
        "url = \"\"\n",
        "img = read_image(url)\n",
        "result = model(img)\n",
        "values, labels = torch.topk(torch.nn.functional.softmax(result, dim=1), 5)\n",
        "for i, label in enumerate(labels[0].numpy()):\n",
        "  print(f\"{i + 1}. ({values[0, i] * 100:.1f}%) {label_names[label]} ({label_names_de[label]})\")"
      ],
      "metadata": {
        "id": "9tMAiZhe_Zsh"
      },
      "execution_count": null,
      "outputs": []
    }
  ]
}