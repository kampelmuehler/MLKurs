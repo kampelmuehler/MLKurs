{
  "nbformat": 4,
  "nbformat_minor": 0,
  "metadata": {
    "colab": {
      "provenance": [],
      "toc_visible": true,
      "authorship_tag": "ABX9TyPdboY0h8wWKJ2NRW6Jcd0a",
      "include_colab_link": true
    },
    "kernelspec": {
      "name": "python3",
      "display_name": "Python 3"
    },
    "language_info": {
      "name": "python"
    }
  },
  "cells": [
    {
      "cell_type": "markdown",
      "metadata": {
        "id": "view-in-github",
        "colab_type": "text"
      },
      "source": [
        "<a href=\"https://colab.research.google.com/github/kampelmuehler/MLKurs/blob/main/image_recognition/ImagenetDemo.ipynb\" target=\"_parent\"><img src=\"https://colab.research.google.com/assets/colab-badge.svg\" alt=\"Open In Colab\"/></a>"
      ]
    },
    {
      "cell_type": "code",
      "execution_count": 66,
      "metadata": {
        "cellView": "form",
        "id": "6UmDpc5g9Llv"
      },
      "outputs": [],
      "source": [
        "#@title Setup\n",
        "import torch\n",
        "from torchvision import models\n",
        "from PIL import Image\n",
        "import urllib\n",
        "import ast\n",
        "\n",
        "\n",
        "weights = models.ResNet101_Weights.DEFAULT\n",
        "transform = models.ResNet101_Weights.IMAGENET1K_V2.transforms()\n",
        "model = models.resnet101(weights=weights)\n",
        "model.eval()\n",
        "label_names = ast.literal_eval(urllib.request.urlopen(\"https://gist.githubusercontent.com/yrevar/942d3a0ac09ec9e5eb3a/raw/238f720ff059c1f82f368259d1ca4ffa5dd8f9f5/imagenet1000_clsidx_to_labels.txt\").read().decode('utf-8'))\n",
        "\n",
        "def read_image(url):\n",
        "  img = Image.open(urllib.request.urlopen(url)).convert(\"RGB\")\n",
        "  thumbnail = img.copy()\n",
        "  thumbnail.thumbnail((400, 400), Image.ANTIALIAS)\n",
        "  display(thumbnail)\n",
        "  return transform(img).unsqueeze(0)"
      ]
    },
    {
      "cell_type": "markdown",
      "source": [
        "# Imagenet Objekterkennung\n",
        "\n",
        "Hier könnt ihr ein ResNet101, welches auf ImageNet `81.9% Top-1` und `95.7% Top-5` accuracy erzielt, ausprobieren. Einfach eine url zu einem Bild einfügen."
      ],
      "metadata": {
        "id": "bibX0oAhGgjK"
      }
    },
    {
      "cell_type": "code",
      "source": [
        "url = \"\"\n",
        "img = read_image(url)\n",
        "result = model(img)\n",
        "top = torch.topk(result, 5)[1][0].numpy()\n",
        "for i, label in enumerate(top):\n",
        "  print(f\"{i + 1}: {label_names[label]}\")"
      ],
      "metadata": {
        "id": "9tMAiZhe_Zsh"
      },
      "execution_count": null,
      "outputs": []
    }
  ]
}