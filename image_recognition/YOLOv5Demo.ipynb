{
  "cells": [
    {
      "cell_type": "markdown",
      "metadata": {
        "id": "view-in-github",
        "colab_type": "text"
      },
      "source": [
        "<a href=\"https://colab.research.google.com/github/kampelmuehler/MLKurs/blob/main/image_recognition/YOLOv5Demo.ipynb\" target=\"_parent\"><img src=\"https://colab.research.google.com/assets/colab-badge.svg\" alt=\"Open In Colab\"/></a>"
      ]
    },
    {
      "cell_type": "markdown",
      "metadata": {
        "id": "t6MPjfT5NrKQ"
      },
      "source": [
        "<div align=\"center\">\n",
        "\n",
        "  <a href=\"https://ultralytics.com/yolov5\" target=\"_blank\">\n",
        "    <img width=\"1024\", src=\"https://raw.githubusercontent.com/ultralytics/assets/main/yolov5/v70/splash.png\"></a>\n",
        "\n",
        "\n",
        "Adaptiert von <a href=\"https://github.com/ultralytics/yolov5\">YOLOv5</a> 🚀 tutorial notebook by <a href=\"https://ultralytics.com\">Ultralytics</a>.\n",
        "</div>"
      ]
    },
    {
      "cell_type": "code",
      "execution_count": null,
      "metadata": {
        "id": "wbvMlHd_QwMG",
        "cellView": "form"
      },
      "outputs": [],
      "source": [
        "#@title Setup\n",
        "%cd /content\n",
        "!git clone https://github.com/ultralytics/yolov5  # clone\n",
        "%cd yolov5\n",
        "!mkdir tmp\n",
        "!rm -r runs\n",
        "%pip install -qr requirements.txt  # install\n",
        "\n",
        "import torch\n",
        "import utils\n",
        "import urllib\n",
        "from PIL import Image\n",
        "from pathlib import Path\n",
        "\n",
        "utils.notebook_init()  # checks\n",
        "def read_image(url):\n",
        "  req = urllib.request.Request(\n",
        "    url, \n",
        "    data=None, \n",
        "    headers={\n",
        "        'User-Agent': 'Mozilla/5.0 (Macintosh; Intel Mac OS X 10_9_3) AppleWebKit/537.36 (KHTML, like Gecko) Chrome/35.0.1916.47 Safari/537.36'\n",
        "    }\n",
        "  )\n",
        "  img = Image.open(urllib.request.urlopen(req)).convert(\"RGB\")\n",
        "  thumbnail = img.copy()\n",
        "  thumbnail.thumbnail((600, 600), Image.ANTIALIAS)\n",
        "  display(thumbnail)\n",
        "  img.save(\"tmp/tmp.jpg\")\n",
        "\n",
        "def get_latest_experiment(base):\n",
        "  latest = \"\"\n",
        "  for p in Path(base).glob(\"exp*\"):\n",
        "    if str(p)[-1] != \"p\" :\n",
        "      if latest == \"\":\n",
        "        latest = str(p)[-1]\n",
        "      elif int(str(p)[-1]) > int(latest):\n",
        "        latest = str(p)[-1]\n",
        "  return Path(base) / f\"exp{latest}\""
      ]
    },
    {
      "cell_type": "markdown",
      "source": [
        "# YOLOv5 Object Detection\n",
        "\n",
        "Hier könnt ihr ein YOLOv5 Modell für Object Detection ausprobieren. Einfach eine url zu einem Bild einfügen."
      ],
      "metadata": {
        "id": "t9ylKMcFQS4w"
      }
    },
    {
      "cell_type": "code",
      "execution_count": null,
      "metadata": {
        "id": "zR9ZbuQCH7FX"
      },
      "outputs": [],
      "source": [
        "url = \"\"\n",
        "read_image(url)\n",
        "!python detect.py --weights yolov5s.pt --img 640 --conf 0.25 --source tmp/\n",
        "result = Image.open(get_latest_experiment('runs/detect') / 'tmp.jpg')\n",
        "result.thumbnail((600, 600), Image.ANTIALIAS)\n",
        "display(result)"
      ]
    },
    {
      "cell_type": "markdown",
      "source": [
        "# YOLOv5 Instance Segmentation\n",
        "\n",
        "Hier könnt ihr ein YOLOv5 Modell für Instance Segmentation ausprobieren. Es verwendet die selbe URL wie zuvor."
      ],
      "metadata": {
        "id": "SIx72xFdQlu3"
      }
    },
    {
      "cell_type": "code",
      "source": [
        "!python segment/predict.py --weights yolov5m-seg.pt --source tmp/tmp.jpg\n",
        "result = Image.open(get_latest_experiment('runs/predict-seg') / 'tmp.jpg')\n",
        "result.thumbnail((600, 600), Image.ANTIALIAS)\n",
        "display(result)"
      ],
      "metadata": {
        "id": "pNOXom-0QNAt"
      },
      "execution_count": null,
      "outputs": []
    }
  ],
  "metadata": {
    "accelerator": "GPU",
    "colab": {
      "provenance": [],
      "include_colab_link": true
    },
    "kernelspec": {
      "display_name": "Python 3",
      "name": "python3"
    }
  },
  "nbformat": 4,
  "nbformat_minor": 0
}