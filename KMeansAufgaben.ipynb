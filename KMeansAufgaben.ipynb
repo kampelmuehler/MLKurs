{
  "nbformat": 4,
  "nbformat_minor": 0,
  "metadata": {
    "colab": {
      "provenance": [],
      "include_colab_link": true
    },
    "kernelspec": {
      "name": "python3",
      "display_name": "Python 3"
    },
    "language_info": {
      "name": "python"
    }
  },
  "cells": [
    {
      "cell_type": "markdown",
      "metadata": {
        "id": "view-in-github",
        "colab_type": "text"
      },
      "source": [
        "<a href=\"https://colab.research.google.com/github/kampelmuehler/MLKurs/blob/main/KMeansAufgaben.ipynb\" target=\"_parent\"><img src=\"https://colab.research.google.com/assets/colab-badge.svg\" alt=\"Open In Colab\"/></a>"
      ]
    },
    {
      "cell_type": "markdown",
      "source": [
        "Nutzen Sie die Implementierung von `KMeans` aus `sklearn` um K-Means clustering auf den nachfolgenden künstlich generierten Daten durchzuführen. Setzen Sie einen `random_state` um die Ergebnisse reproduzierbar zu machen. Die Funktion `plot_clusters` erlaubt es Ihnen Cluster zu visualisieren.\n",
        "\n",
        "Finden Sie eine gute Initialisierung für `n_clusters` mittels Elbow Methode indem Sie die SSE Werte für unterschiedliche Werte darstellen und visuell den besten Wert feststellen.\n",
        "\n"
      ],
      "metadata": {
        "id": "nyK3Ogp1QEZp"
      }
    },
    {
      "cell_type": "code",
      "execution_count": 2,
      "metadata": {
        "colab": {
          "base_uri": "https://localhost:8080/",
          "height": 265
        },
        "id": "Wx2aGj_tP5r_",
        "outputId": "d3f15192-20a3-4600-82b2-6d395c24e023"
      },
      "outputs": [
        {
          "output_type": "display_data",
          "data": {
            "text/plain": [
              "<Figure size 432x288 with 1 Axes>"
            ],
            "image/png": "[encoded data removed]"
          },
          "metadata": {
            "needs_background": "light"
          }
        }
      ],
      "source": [
        "import matplotlib.pyplot as plt\n",
        "from sklearn.datasets import make_blobs\n",
        "from sklearn.preprocessing import StandardScaler\n",
        "import numpy as np\n",
        "\n",
        "features, true_labels, true_centers = make_blobs(\n",
        "    n_samples=200,\n",
        "    centers=3,\n",
        "    cluster_std=2.75,\n",
        "    random_state=42,\n",
        "    return_centers=True\n",
        ")\n",
        "\n",
        "scaler = StandardScaler()\n",
        "scaled_features = scaler.fit_transform(features)\n",
        "scaled_true_centers = scaler.fit_transform(true_centers)\n",
        "\n",
        "def plot_clusters(features, labels, centers=None):\n",
        "  plt.figure()\n",
        "  for l in np.unique(labels):\n",
        "    data = features[labels == l]\n",
        "    plt.scatter(data[:, 0], data[:, 1])\n",
        "  if centers is not None:\n",
        "    plt.scatter(centers[:, 0], centers[:, 1], c='k', marker=\"X\", s=100)\n",
        "  plt.show()\n",
        "\n",
        "plot_clusters(scaled_features, true_labels, scaled_true_centers)"
      ]
    }
  ]
}