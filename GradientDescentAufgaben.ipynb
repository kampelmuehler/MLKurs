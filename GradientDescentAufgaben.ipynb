{
  "nbformat": 4,
  "nbformat_minor": 0,
  "metadata": {
    "colab": {
      "provenance": [],
      "include_colab_link": true
    },
    "kernelspec": {
      "name": "python3",
      "display_name": "Python 3"
    },
    "language_info": {
      "name": "python"
    }
  },
  "cells": [
    {
      "cell_type": "markdown",
      "metadata": {
        "id": "view-in-github",
        "colab_type": "text"
      },
      "source": [
        "<a href=\"https://colab.research.google.com/github/kampelmuehler/MLKurs/blob/main/GradientDescentAufgaben.ipynb\" target=\"_parent\"><img src=\"https://colab.research.google.com/assets/colab-badge.svg\" alt=\"Open In Colab\"/></a>"
      ]
    },
    {
      "cell_type": "markdown",
      "source": [
        "# Gradient Descent\n",
        "\n",
        "Schreiben Sie ein Skript, welches anhand einer einfachen Funktion $f(x)=x^2$ den Gradient Descent Algorithmus $x_{n+1}=x_n−λf′(x_n)$ visualisiert. Gehen Sie hierfür von $x_0 \\sim \\mathcal{U}(-100, 100)$. Die Visualisierung soll alle $x_n$ gemeinsam mit der Funktion $f(x)=x^2$ innerhalb eines sinnvollen Bereichs darstellen.\n",
        "\n",
        "$N$ und $\\lambda$ sind hier Hyperparameter und sollen daher anpassbar sein.\n",
        "\n",
        "Probieren Sie Ihre Visualisierung für unterschiedliche Werte von $N$ und $\\lambda$ aus. Was passiert für $\\lambda = 1$, $\\lambda < 1$ und $\\lambda > 1$? "
      ],
      "metadata": {
        "id": "J7qNVdazq4FG"
      }
    },
    {
      "cell_type": "code",
      "source": [],
      "metadata": {
        "id": "b1vosxDjOE3L"
      },
      "execution_count": null,
      "outputs": []
    }
  ]
}