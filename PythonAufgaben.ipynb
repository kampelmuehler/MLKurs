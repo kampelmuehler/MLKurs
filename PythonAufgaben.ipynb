{
  "nbformat": 4,
  "nbformat_minor": 0,
  "metadata": {
    "colab": {
      "provenance": [],
      "authorship_tag": "ABX9TyNA29OUX2/iHZzqVKatcDp1",
      "include_colab_link": true
    },
    "kernelspec": {
      "name": "python3",
      "display_name": "Python 3"
    },
    "language_info": {
      "name": "python"
    }
  },
  "cells": [
    {
      "cell_type": "markdown",
      "metadata": {
        "id": "view-in-github",
        "colab_type": "text"
      },
      "source": [
        "<a href=\"https://colab.research.google.com/github/kampelmuehler/MLKurs/blob/main/PythonAufgaben.ipynb\" target=\"_parent\"><img src=\"https://colab.research.google.com/assets/colab-badge.svg\" alt=\"Open In Colab\"/></a>"
      ]
    },
    {
      "cell_type": "markdown",
      "source": [
        "Verändern Sie die folgende Codezeile so, dass sie\n",
        "\n",
        "```\n",
        "Hlowrd\n",
        "```\n",
        "ausgibt.\n"
      ],
      "metadata": {
        "id": "pGvBwHKm1469"
      }
    },
    {
      "cell_type": "code",
      "source": [
        "print(\"Hello world\")"
      ],
      "metadata": {
        "id": "kGMef0Yx2HBk"
      },
      "execution_count": null,
      "outputs": []
    },
    {
      "cell_type": "markdown",
      "source": [
        "Schreiben Sie eine Funktion `remove_chars(string, n)` die einen String bis zum nten Element ausgibt.\n",
        "\n",
        "Beispiel:\n",
        "\n",
        "\n",
        "```\n",
        "in: remove_chars(\"HTL Leoben\", 3)\n",
        "out: HTL\n",
        "```\n",
        "\n"
      ],
      "metadata": {
        "id": "D2P46HXByVb7"
      }
    },
    {
      "cell_type": "code",
      "execution_count": null,
      "metadata": {
        "id": "W72RIv6jwlUe"
      },
      "outputs": [],
      "source": []
    },
    {
      "cell_type": "markdown",
      "source": [
        "Schreiben Sie ein Skript, welches folgende Ausgabe erzeugt:\n",
        "\n",
        "\n",
        "```\n",
        "1\n",
        "2:2\n",
        "3:3:3\n",
        "4:4:4:4\n",
        "```\n",
        "\n"
      ],
      "metadata": {
        "id": "SVz-Kxg4zx7G"
      }
    },
    {
      "cell_type": "code",
      "source": [],
      "metadata": {
        "id": "mcTSU9X_1FHq"
      },
      "execution_count": null,
      "outputs": []
    },
    {
      "cell_type": "markdown",
      "source": [
        "Schreiben Sie eine Funktion `my_sum(n)`, welche die Quersumme einer Ganzzahl ausgibt.\n",
        "\n",
        "Beispiel:\n",
        "\n",
        "\n",
        "```\n",
        "in: my_sum(1234)\n",
        "out: 10\n",
        "```\n",
        "\n"
      ],
      "metadata": {
        "id": "SphEvIsJ1HUA"
      }
    },
    {
      "cell_type": "code",
      "source": [],
      "metadata": {
        "id": "bgenU4a_4tKu"
      },
      "execution_count": null,
      "outputs": []
    },
    {
      "cell_type": "markdown",
      "source": [
        "Schreiben Sie eine Funktion `my_sum(n)`, welche die Summe bis zu einer bestimmten natürlichen Zahl ausgibt.\n",
        "\n",
        "Beispiel:\n",
        "\n",
        "\n",
        "```\n",
        "in: my_sum(9)\n",
        "out: 45\n",
        "```\n",
        "\n",
        "Bonus: Arithmetische Lösung."
      ],
      "metadata": {
        "id": "Vfb_i8iu3c89"
      }
    },
    {
      "cell_type": "code",
      "source": [],
      "metadata": {
        "id": "C34iEzzS5L7X"
      },
      "execution_count": null,
      "outputs": []
    },
    {
      "cell_type": "markdown",
      "source": [
        "Berechnen Sie `7!=1x2x3x4x5x6x7`.\n",
        "\n"
      ],
      "metadata": {
        "id": "0UlgPrv05XSi"
      }
    },
    {
      "cell_type": "code",
      "source": [],
      "metadata": {
        "id": "CZuF88WL6i3y"
      },
      "execution_count": null,
      "outputs": []
    },
    {
      "cell_type": "markdown",
      "source": [
        "Schreiben Sie eine Funktion `my_product(...)`, welche das Produkt ihrer beliebig vielen Argumente ausgibt.\n",
        "\n",
        "Beispiel:\n",
        "\n",
        "\n",
        "```\n",
        "in: my_product(9)\n",
        "out: 9\n",
        "in: my_product(9, 4)\n",
        "out: 36\n",
        "```\n",
        "\n",
        "```\n",
        "# Als Code formatiert\n",
        "```\n",
        "\n"
      ],
      "metadata": {
        "id": "SCA6TGCM6jra"
      }
    },
    {
      "cell_type": "code",
      "source": [],
      "metadata": {
        "id": "sXelh2767wpK"
      },
      "execution_count": null,
      "outputs": []
    },
    {
      "cell_type": "markdown",
      "source": [
        "Schreiben Sie eine Funktion `string_count(string)`, welche die Anzahl jedes Buchstaben in einem String als dictionary ausgibt.\n",
        "\n",
        "Beispiel:\n",
        "```\n",
        "in: string_count(\"HTL Leoben\")\n",
        "out: {'H': 1, 'T': 1, 'L': 2, 'e': 2, 'o': 1, 'b': 1, 'n': 1}\n",
        "```\n",
        "\n"
      ],
      "metadata": {
        "id": "RZjZO8-q7xDI"
      }
    }
  ]
}